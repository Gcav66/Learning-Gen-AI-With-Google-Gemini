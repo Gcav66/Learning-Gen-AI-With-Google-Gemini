{
  "cells": [
    {
      "cell_type": "markdown",
      "metadata": {
        "id": "Tce3stUlHN0L"
      },
      "source": [
        "##### Copyright 2025 Google LLC."
      ]
    },
    {
      "cell_type": "code",
      "execution_count": null,
      "metadata": {
        "id": "tuOe1ymfHZPu"
      },
      "outputs": [],
      "source": [
        "# @title Licensed under the Apache License, Version 2.0 (the \"License\");\n",
        "# you may not use this file except in compliance with the License.\n",
        "# You may obtain a copy of the License at\n",
        "#\n",
        "# https://www.apache.org/licenses/LICENSE-2.0\n",
        "#\n",
        "# Unless required by applicable law or agreed to in writing, software\n",
        "# distributed under the License is distributed on an \"AS IS\" BASIS,\n",
        "# WITHOUT WARRANTIES OR CONDITIONS OF ANY KIND, either express or implied.\n",
        "# See the License for the specific language governing permissions and\n",
        "# limitations under the License."
      ]
    },
    {
      "cell_type": "markdown",
      "metadata": {
        "id": "yeadDkMiISin"
      },
      "source": [
        "# Gemini API: Authentication Quickstart"
      ]
    },
    {
      "cell_type": "markdown",
      "metadata": {
        "id": "lEXQ3OwKIa-O"
      },
      "source": [
        "<a target=\"_blank\" href=\"https://colab.research.google.com/github/google-gemini/cookbook/blob/main/quickstarts/Authentication.ipynb\"><img src=\"https://colab.research.google.com/assets/colab-badge.svg\" height=30/></a>"
      ]
    },
    {
      "cell_type": "markdown",
      "metadata": {
        "id": "df1767a3d1cc"
      },
      "source": [
        "The Gemini API uses API keys for authentication. This notebook walks you through creating an API key, and using it with the Python SDK or a command-line tool like `curl`."
      ]
    },
    {
      "cell_type": "markdown",
      "metadata": {
        "id": "mhFKmRmxi5B-"
      },
      "source": [
        "## Create an API key\n",
        "\n",
        "You can [create](https://aistudio.google.com/app/apikey) your API key using Google AI Studio with a single click.  \n",
        "\n",
        "Remember to treat your API key like a password. Don't accidentally save it in a notebook or source file you later commit to GitHub. This notebook shows you two ways you can securely store your API key.\n",
        "\n",
        "* If you're using Google Colab, it's recommended to store your key in Colab Secrets.\n",
        "\n",
        "* If you're using a different development environment (or calling the Gemini API through `cURL` in your terminal), it's recommended to store your key in an [environment variable](https://en.wikipedia.org/wiki/Environment_variable).\n",
        "\n",
        "Let's start with Colab Secrets."
      ]
    },
    {
      "cell_type": "markdown",
      "metadata": {
        "id": "dEoigYI9Jw_K"
      },
      "source": [
        "## Add your key to Colab Secrets\n",
        "\n",
        "Add your API key to the Colab Secrets manager to securely store it.\n",
        "\n",
        "1. Open your Google Colab notebook and click on the 🔑 **Secrets** tab in the left panel.\n",
        "   \n",
        "   <img src=\"https://storage.googleapis.com/generativeai-downloads/images/secrets.jpg\" alt=\"You can find the Secrets tab on the left panel.\" width=50%>\n",
        "\n",
        "2. Create a new secret with the name `GOOGLE_API_KEY`.\n",
        "3. Copy and paste your API key into the `Value` input box of `GOOGLE_API_KEY`.\n",
        "4. Toggle the button on the left to allow all notebooks access to the secret.\n"
      ]
    },
    {
      "cell_type": "markdown",
      "metadata": {
        "id": "jRY1eioF4gUB"
      },
      "source": [
        "## Install the Python SDK"
      ]
    },
    {
      "cell_type": "code",
      "execution_count": 1,
      "metadata": {
        "id": "xuiLSV7amy3P",
        "outputId": "81e08a89-87f5-437c-87ce-f94754b9834f",
        "colab": {
          "base_uri": "https://localhost:8080/"
        }
      },
      "outputs": [
        {
          "output_type": "stream",
          "name": "stdout",
          "text": [
            "\u001b[?25l   \u001b[90m━━━━━━━━━━━━━━━━━━━━━━━━━━━━━━━━━━━━━━━━\u001b[0m \u001b[32m0.0/223.8 kB\u001b[0m \u001b[31m?\u001b[0m eta \u001b[36m-:--:--\u001b[0m\r\u001b[2K   \u001b[90m━━━━━━━━━━━━━━━━━━━━━━━━━━━━━━━━━━━━━━━━\u001b[0m \u001b[32m223.8/223.8 kB\u001b[0m \u001b[31m6.8 MB/s\u001b[0m eta \u001b[36m0:00:00\u001b[0m\n",
            "\u001b[?25h"
          ]
        }
      ],
      "source": [
        "%pip install -qU 'google-genai>=1.0.0'"
      ]
    },
    {
      "cell_type": "markdown",
      "metadata": {
        "id": "3dw8ygh74mVc"
      },
      "source": [
        "## Configure the SDK with your API key\n",
        "\n",
        "You create a client using your API key, but instead of pasting your key into the notebook, you'll read it from Colab Secrets thanks to `userdata`."
      ]
    },
    {
      "cell_type": "code",
      "execution_count": 2,
      "metadata": {
        "id": "DTl-qZp34sht"
      },
      "outputs": [],
      "source": [
        "from google import genai\n",
        "from google.colab import userdata\n",
        "\n",
        "GOOGLE_API_KEY = userdata.get('GOOGLE_API_KEY')\n",
        "client = genai.Client(api_key=GOOGLE_API_KEY)"
      ]
    },
    {
      "cell_type": "markdown",
      "metadata": {
        "id": "b7ceb7517bf5"
      },
      "source": [
        "Now choose a model. The Gemini API offers different models that are optimized for specific use cases. For more information check [Gemini models](https://ai.google.dev/gemini-api/docs/models)"
      ]
    },
    {
      "cell_type": "code",
      "execution_count": 3,
      "metadata": {
        "id": "7135d9ae3e4b"
      },
      "outputs": [],
      "source": [
        "MODEL_ID = \"gemini-2.5-flash\" # @param [\"gemini-2.5-flash-lite-preview-06-17\",\"gemini-2.0-flash\",\"gemini-2.5-flash\",\"gemini-2.5-pro\"] {\"allow-input\":true, isTemplate: true}"
      ]
    },
    {
      "cell_type": "markdown",
      "metadata": {
        "id": "tr7oAO6-nMsE"
      },
      "source": [
        "And that's it! Now you're ready to call the Gemini API."
      ]
    },
    {
      "cell_type": "code",
      "execution_count": 6,
      "metadata": {
        "id": "n6sXnWrJoKoo",
        "outputId": "ee00f335-3637-4018-a502-08ec4054fc13",
        "colab": {
          "base_uri": "https://localhost:8080/",
          "height": 1000
        }
      },
      "outputs": [
        {
          "output_type": "display_data",
          "data": {
            "text/plain": [
              "<IPython.core.display.Markdown object>"
            ],
            "text/markdown": "Asheville with joyful, volatile children and a phone-checking dad? This sounds like a mission of strategic fun, quick pivots, and embracing the chaos! The key is **flexibility, low commitment, and opportunities for both energy release and contained engagement.**\n\nHere are some recommendations, keeping your unique family dynamics in mind:\n\n---\n\n## Asheville Fun for Volatile Tots & Distracted Dads\n\n### **Outdoor & Energy-Burning (Good for Volatility & Safe for Distraction)**\n\n1.  **WNC Nature Center:**\n    *   **Why it's great:** It's essentially a zoo for Appalachian animals. It's spread out enough for running and exploring, but contained enough that the kids can't easily disappear. There are animal exhibits, a barnyard, and a playground.\n    *   **For the kids:** See bears, otters, wolves, cougars, deer – up close! Lots of walking, talking, and roaring. The playground is a great reward.\n    *   **For the dad:** Relatively easy to keep eyes on the kids while they explore. The trails are well-maintained. Designated benches for quick phone checks. The animals are engaging enough to draw the kids' attention, giving you a moment.\n    *   **Pro-Tip:** Pack a lunch or snacks. There's a small snack bar but it's limited. Allow plenty of time (2-3 hours minimum).\n\n2.  **The North Carolina Arboretum:**\n    *   **Why it's great:** While it has beautiful formal gardens, it also boasts a fantastic **Kids' Discovery Garden** designed for interactive play. There are also miles of paved and unpaved trails perfect for strollers, scooters, or little bikes.\n    *   **For the kids:** The Kids' Discovery Garden is a hit – a giant spider web, tunnels, digging areas, water features (seasonal). Lots of space to run. The Bonsai exhibit can be surprisingly captivating for small eyes too.\n    *   **For the dad:** The paved trails are great for pushing a stroller and letting kids explore within sight. The Kids' Garden is fairly contained. The beauty of the gardens can also be a nice backdrop for those phone moments.\n    *   **Pro-Tip:** Check their events calendar – they often have kid-friendly programming. Entry fee per car.\n\n3.  **Local Parks & Playgrounds (Free & Easy Pivot):**\n    *   **Why it's great:** The ultimate \"get the wiggles out\" solution. Low commitment, easy to leave if a meltdown occurs.\n    *   **Top Picks:**\n        *   **Malvern Hills Park:** Good playground, often less crowded than others.\n        *   **Carrier Park:** Larger, with multiple play structures, a velodrome (fun to watch bikes), and large open fields. Good for when you really need to burn some energy.\n        *   **Richmond Hill Park:** Has a good playground and walking trails.\n    *   **For the dad:** Kids are generally self-sufficient on playgrounds, allowing for quick phone checks while still supervising. Open spaces make it easier to track them.\n    *   **Pro-Tip:** Always have snacks and water. Bring sand toys if there's a sandbox.\n\n### **Indoor & Engaging (Good for Rainy Days or Sensory Overload)**\n\n1.  **Asheville Museum of Science (AMOS):**\n    *   **Why it's great:** Designed for hands-on learning and play, perfect for both a 6 and 3-year-old. It's small enough not to be overwhelming but packed with engaging exhibits.\n    *   **For the kids:** Dinosaur fossils, gem mining, a climbing wall, a hurricane simulator, and a whole area dedicated to rivers and water play.\n    *   **For the dad:** A contained environment where the kids can move from exhibit to exhibit, usually within your line of sight. The exhibits themselves often hold their attention well.\n    *   **Pro-Tip:** Can get a bit loud, but the excitement usually outweighs it. Plan for 1-2 hours.\n\n2.  **Asheville Pinball Museum:**\n    *   **Why it's great:** Unlimited play for a flat fee. It's noisy and stimulating, which can be great for diverting attention from rising volatility.\n    *   **For the kids:** Both ages can find a machine to enjoy, even if it's just pushing buttons and watching lights. The sheer number of games is exciting.\n    *   **For the dad:** It's one large room, making supervision relatively easy. You can even join in the fun on a game yourself during a brief lull, or take a quick phone break while they're mesmerized.\n    *   **Pro-Tip:** Go early in the day or during off-peak hours to avoid crowds. It can get *very* loud.\n\n### **Food & Treat Stops (Essential for Maintaining Sanity)**\n\n1.  **French Broad Chocolate Lounge:**\n    *   **Why it's great:** Who doesn't love chocolate? It's a bustling, sensory experience that can be a great pick-me-up or reward.\n    *   **For the kids:** Hot chocolate, cookies, ice cream, brownies – pure joy. The lively atmosphere can help mask any budding meltdowns.\n    *   **For the dad:** A quick treat, easy in and out. The kids will be so focused on their sugar that a phone check might go unnoticed.\n    *   **Pro-Tip:** Expect a line, but it moves. Consider getting treats to go if the crowd is too much.\n\n2.  **Walkable Bites in Downtown Asheville:**\n    *   **Why it's great:** Sometimes, a structured meal is too much. Grab a slice of pizza, a pastry, or an ice cream cone and wander.\n    *   **Specifics:**\n        *   **Mellow Mushroom:** Kid-friendly pizza, often loud enough to absorb kid noise.\n        *   **Rocky's Hot Chicken Shack (South Asheville):** Outdoor seating, lively, and they have chicken tenders for kids. The music is a good distraction.\n        *   **White Duck Taco Shop:** Casual, quick, and flavorful options that even picky eaters might try.\n    *   **For the dad:** Quick service, less pressure than a sit-down restaurant. Easy to bail if needed.\n\n### **Tips for the Loving but Distracted Dad:**\n\n*   **Designated \"Phone Zones\" or \"Phone Breaks\":** Instead of constant checking, try to set specific times or places (e.g., \"I'll check my phone for 5 minutes when we get to the playground, and again when we sit for lunch\"). This makes it more intentional and less disruptive.\n*   **Audio Engagement:** When checking your phone, narrate something to the kids if you can, or put on a podcast/audiobook for them. \"Look, I found a picture of a dinosaur like the one we just saw!\"\n*   **\"Parenting Partner\" Apps:** Consider apps that track your child's location within a defined perimeter if you're in a large, open space (like Carrier Park), for added peace of mind, but still prioritize visual supervision.\n*   **Pre-load Entertainment:** Have a couple of engaging apps or videos ready on your phone *for the kids* in case of a meltdown or a necessary \"quiet time\" in a stroller.\n*   **Engage with Their \"Why\":** If you're on your phone, and a child asks \"why?\", you can respond with \"I'm just checking our map to see where the animals are next!\" or \"I'm sending a quick message to Mom/Grandma about our fun day!\" This acknowledges their curiosity while still allowing your task.\n*   **Set a Timer:** When you pick up your phone, set a 2-minute timer. When it goes off, put it down and re-engage fully.\n\n### **General \"Joyful but Volatile\" Survival Tips:**\n\n*   **Snack & Hydrate Constantly:** Dehydration and low blood sugar are meltdown catalysts. Have a bag of go-to snacks and water bottles at all times.\n*   **Over-Pack:** Extra clothes, wipes, small distractions (toy cars, crayons).\n*   **Lower Expectations:** Your goal is \"moments of joy,\" not \"perfect days.\" If a plan falls apart, pivot! Asheville is great for spontaneous changes.\n*   **Embrace the Mess:** Kids get dirty. It's part of the fun.\n*   **Allow for Downtime:** Don't try to cram too much into one day. A quiet hour at the hotel or a drive with music can recharge everyone.\n*   **Acknowledge Feelings:** \"I see you're feeling frustrated right now. It's hard when...\" validates their emotions and can sometimes de-escalate.\n*   **Offer Choices:** \"Do you want to go to the playground or see the animals first?\" Giving them a sense of control can reduce power struggles.\n\nHave an absolutely fantastic (and perhaps a little wild) time in Asheville!"
          },
          "metadata": {}
        }
      ],
      "source": [
        "from IPython.display import Markdown\n",
        "\n",
        "response = client.models.generate_content(\n",
        "    model=MODEL_ID,\n",
        "    contents=\"Please recommend fun things to do in Asheville, NC with joyful but volatile  \\\n",
        "              children ages 6 and 3. Please account for a loving but distracted father  \\\n",
        "              who frequently checks his phone\"\n",
        ")\n",
        "\n",
        "display(Markdown(response.text))"
      ]
    },
    {
      "cell_type": "markdown",
      "metadata": {
        "id": "BTdQtZri1Brs"
      },
      "source": [
        "## Store your key in an environment variable"
      ]
    },
    {
      "cell_type": "markdown",
      "metadata": {
        "id": "gZDX51Y27pN4"
      },
      "source": [
        "If you're using a different development environment (or calling the Gemini API through `cURL` in your terminal), it's recommended to store your key in an environment variable.\n",
        "\n",
        "To store your key in an environment variable, open your terminal and run:\n",
        "\n",
        "```export GOOGLE_API_KEY=\"YOUR_API_KEY\"```\n",
        "\n",
        "If you're using Python, you can add these two lines to your notebook to read the key:\n",
        "\n",
        "```\n",
        "import os\n",
        "client = genai.Client(api_key=os.environ['GOOGLE_API_KEY'])\n",
        "```\n",
        "\n",
        "Alternatively, if it isn't provided explicitly, the client will look for the API key.\n",
        "\n",
        "```\n",
        "client = genai.Client()\n",
        "```\n",
        "\n",
        "Or, if you're calling the API through your terminal using `cURL`, you can copy and paste this code to read your key from the environment variable.\n",
        "\n",
        "```\n",
        "curl \"https://generativelanguage.googleapis.com/v1beta/models/gemini-2.0-flash:generateContent?key=$GOOGLE_API_KEY\" \\\n",
        "    -H 'Content-Type: application/json' \\\n",
        "    -X POST \\\n",
        "    -d '{\n",
        "      \"contents\": [{\n",
        "        \"parts\":[{\n",
        "          \"text\": \"Please give me Python code to sort a list.\"\n",
        "        }]\n",
        "      }]\n",
        "    }'\n",
        "```\n"
      ]
    },
    {
      "cell_type": "markdown",
      "metadata": {
        "id": "CAOKOcax1xZY"
      },
      "source": [
        "## Learning more\n",
        "\n",
        "Now that you know how to manage your API key, you've everything to [get started](./Get_started.ipynb) with Gemini. Check all the [quickstart guides](https://github.com/google-gemini/cookbook/tree/main/quickstarts) from the Cookbook, and in particular the [Get started](./Get_started.ipynb) one."
      ]
    }
  ],
  "metadata": {
    "colab": {
      "name": "Authentication.ipynb",
      "provenance": []
    },
    "google": {
      "image_path": "/site-assets/images/share.png",
      "keywords": [
        "examples",
        "googleai",
        "samplecode",
        "python",
        "embed",
        "function"
      ]
    },
    "kernelspec": {
      "display_name": "Python 3",
      "name": "python3"
    }
  },
  "nbformat": 4,
  "nbformat_minor": 0
}